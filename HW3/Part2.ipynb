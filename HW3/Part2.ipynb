{
 "cells": [
  {
   "cell_type": "code",
   "execution_count": 98,
   "metadata": {},
   "outputs": [],
   "source": [
    "import pandas as pd\n",
    "import numpy as np\n",
    "import random\n",
    "from sklearn.metrics.pairwise import cosine_similarity, euclidean_distances,manhattan_distances\n",
    "from sklearn.preprocessing import MinMaxScaler\n",
    "import matplotlib.pyplot as plt\n",
    "import time\n",
    "from sklearn.manifold import TSNE"
   ]
  },
  {
   "cell_type": "code",
   "execution_count": 99,
   "metadata": {},
   "outputs": [],
   "source": [
    "def clustering_md(train_arr, centroids):    \n",
    "    ed_matrix = manhattan_distances(train_arr, centroids)\n",
    "    nearest_centroid = []\n",
    "    for i in range(ed_matrix.shape[0]):\n",
    "        c = np.argmin(ed_matrix[i])\n",
    "        nearest_centroid.append(c)\n",
    "    return nearest_centroid"
   ]
  },
  {
   "cell_type": "code",
   "execution_count": 100,
   "metadata": {},
   "outputs": [],
   "source": [
    "def clustering_eu(train_arr, centroids):    \n",
    "    ed_matrix = euclidean_distances(train_arr, centroids)\n",
    "    nearest_centroid = []\n",
    "    for i in range(ed_matrix.shape[0]):\n",
    "        c = np.argmin(ed_matrix[i])\n",
    "        nearest_centroid.append(c)\n",
    "    return nearest_centroid"
   ]
  },
  {
   "cell_type": "code",
   "execution_count": 101,
   "metadata": {},
   "outputs": [],
   "source": [
    "def clustering_cos(train_arr, centroids):    \n",
    "    ed_matrix = cosine_similarity(train_arr, centroids)\n",
    "    nearest_centroid = []\n",
    "    for i in range(ed_matrix.shape[0]):\n",
    "        c = np.argmax(ed_matrix[i])\n",
    "        nearest_centroid.append(c)\n",
    "    return nearest_centroid"
   ]
  },
  {
   "cell_type": "code",
   "execution_count": 102,
   "metadata": {},
   "outputs": [],
   "source": [
    "def calc_centroids(train_arr, nearest_centroid, centroids):\n",
    "    cluster_d = list()\n",
    "    all_cluster_d = [0.0,0.0,0.0,0.0,0.0,0.0,0.0,0.0,0.0,0.0]\n",
    "    new_centroids = list()\n",
    "    new_df = pd.concat([pd.DataFrame(train_arr), pd.DataFrame(nearest_centroid, columns=['cluster'])], axis=1)    \n",
    "    new_df_arr = np.array(new_df['cluster'])\n",
    "    for c in set(new_df_arr):        \n",
    "        thiscluster = new_df[new_df['cluster'] == c][new_df.columns[:-1]]        \n",
    "        temp = np.array(centroids[c])\n",
    "        temp = temp.reshape(1,-1)        \n",
    "        cluster_d = manhattan_distances(thiscluster, temp)\n",
    "        #cluster_d = euclidean_distances(thiscluster, temp)\n",
    "        #cluster_d = cosine_similarity(thiscluster, temp)\n",
    "        for d in cluster_d:\n",
    "            all_cluster_d[c] += d * d        \n",
    "        cluster_mean = thiscluster.mean(axis=0)        \n",
    "        new_centroids.append(cluster_mean)    \n",
    "    return new_centroids, all_cluster_d"
   ]
  },
  {
   "cell_type": "code",
   "execution_count": 103,
   "metadata": {},
   "outputs": [],
   "source": [
    "def runner(k):\n",
    "    tsne = TSNE(n_components = 2, perplexity = 50, init = 'pca', random_state=0)\n",
    "    df = pd.read_csv(\"test_MNIST.txt\", header=None)\n",
    "    arr = np.array(df)\n",
    "    arr = arr.astype(float)\n",
    "    \n",
    "    #normalization of data using minmax scaler\n",
    "    scaler = MinMaxScaler()\n",
    "    scaled_arr = scaler.fit_transform(arr)\n",
    "\n",
    "    \n",
    "    train_arr = tsne.fit_transform(scaled_arr)\n",
    "    \n",
    "    c_index = random.sample(range(0, len(train_arr)), k)    \n",
    "    centroids = []\n",
    "    \n",
    "    for i in c_index:\n",
    "        centroids.append(train_arr[i])\n",
    "    centroids = np.array(centroids)    \n",
    "    \n",
    "    sse = []\n",
    "    iterations = 50\n",
    "    nearest_centroid = []\n",
    "    for i in range(iterations):\n",
    "        nearest_centroid = clustering_md(train_arr, centroids)\n",
    "        #nearest_centroid = clustering_eu(train_arr, centroids)\n",
    "        #nearest_centroid = clustering_cos(train_arr, centroids)\n",
    "        centroids, all_cluster_d = calc_centroids(train_arr, nearest_centroid, centroids)\n",
    "        sse.append(sum(all_cluster_d))                \n",
    "    new_df = pd.concat([pd.DataFrame(train_arr), pd.DataFrame(nearest_centroid, columns=['cluster'])], axis=1)\n",
    "    new_df.replace({0:1, 1:2,2:3,3:4,4:5,5:6,6:7,7:8,8:9,9:10}, inplace=True)\n",
    "    new_df.to_csv('MNIST_result_euclid_pca_perplex50.csv',columns=['cluster'], index =False, header = False)\n",
    "    \n",
    "    plt.figure()\n",
    "    plt.plot(range(iterations), sse, 'bx-')\n",
    "    plt.xlabel('iterations')\n",
    "    plt.ylabel('SSE')\n",
    "    plt.title('The Elbow Method showing the optimal iterations')\n",
    "    plt.show()"
   ]
  },
  {
   "cell_type": "code",
   "execution_count": 104,
   "metadata": {
    "scrolled": true
   },
   "outputs": [
    {
     "data": {
      "image/png": "[encoded data removed]",
      "text/plain": [
       "<Figure size 432x288 with 1 Axes>"
      ]
     },
     "metadata": {
      "needs_background": "light"
     },
     "output_type": "display_data"
    },
    {
     "name": "stdout",
     "output_type": "stream",
     "text": [
      "Execution time =  218.0694100856781\n"
     ]
    }
   ],
   "source": [
    "start = time.time()\n",
    "runner(10)\n",
    "print(\"Execution time = \", time.time() - start)"
   ]
  },
  {
   "cell_type": "code",
   "execution_count": null,
   "metadata": {},
   "outputs": [],
   "source": []
  },
  {
   "cell_type": "code",
   "execution_count": null,
   "metadata": {},
   "outputs": [],
   "source": []
  },
  {
   "cell_type": "code",
   "execution_count": null,
   "metadata": {},
   "outputs": [],
   "source": []
  },
  {
   "cell_type": "code",
   "execution_count": null,
   "metadata": {},
   "outputs": [],
   "source": []
  },
  {
   "cell_type": "code",
   "execution_count": null,
   "metadata": {},
   "outputs": [],
   "source": []
  },
  {
   "cell_type": "code",
   "execution_count": null,
   "metadata": {},
   "outputs": [],
   "source": []
  }
 ],
 "metadata": {
  "kernelspec": {
   "display_name": "Python 3",
   "language": "python",
   "name": "python3"
  },
  "language_info": {
   "codemirror_mode": {
    "name": "ipython",
    "version": 3
   },
   "file_extension": ".py",
   "mimetype": "text/x-python",
   "name": "python",
   "nbconvert_exporter": "python",
   "pygments_lexer": "ipython3",
   "version": "3.8.5"
  }
 },
 "nbformat": 4,
 "nbformat_minor": 4
}
